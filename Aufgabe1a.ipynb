{
 "cells": [
  {
   "metadata": {},
   "cell_type": "markdown",
   "source": "## Funktion für Berechnung des Arithmetische Mittels",
   "id": "c0bbe91265d45973"
  },
  {
   "metadata": {
    "ExecuteTime": {
     "end_time": "2025-03-08T08:32:50.155277Z",
     "start_time": "2025-03-08T08:32:50.149510Z"
    }
   },
   "cell_type": "code",
   "source": [
    "def arithmetisches_mittel(list):\n",
    "    # Gebe Fehler bei leerer Liste zurück\n",
    "    if len(list) == 0:\n",
    "        raise ValueError(\"Die arithmetische Mitte ist für eine leere Liste nicht definiert.\")\n",
    "    # Summe der Liste berechnen\n",
    "    summe = 0\n",
    "    for i in list:\n",
    "        summe += i\n",
    "    # Länge der Liste berechenn\n",
    "    laenge = len(list)\n",
    "    # Arithmetische Mitte entspricht der Summe der Elemente der Liste durch die Länge der Liste\n",
    "    return summe / laenge"
   ],
   "id": "10723f5eb2a8f172",
   "outputs": [],
   "execution_count": 46
  },
  {
   "metadata": {},
   "cell_type": "markdown",
   "source": "Berechne arithmetisches Mittel von 1, 4 und 10",
   "id": "94200a72e5b2a53b"
  },
  {
   "metadata": {
    "ExecuteTime": {
     "end_time": "2025-03-08T08:32:50.170644Z",
     "start_time": "2025-03-08T08:32:50.167380Z"
    }
   },
   "cell_type": "code",
   "source": "arithmetisches_mittel([1, 4, 10])",
   "id": "529b207ad5a61c26",
   "outputs": [
    {
     "data": {
      "text/plain": [
       "5.0"
      ]
     },
     "execution_count": 47,
     "metadata": {},
     "output_type": "execute_result"
    }
   ],
   "execution_count": 47
  },
  {
   "metadata": {},
   "cell_type": "markdown",
   "source": "##  Funktion für Berechnung des Geometrischen Mittel",
   "id": "49cc392d14501152"
  },
  {
   "metadata": {
    "ExecuteTime": {
     "end_time": "2025-03-08T08:32:50.183670Z",
     "start_time": "2025-03-08T08:32:50.181378Z"
    }
   },
   "cell_type": "code",
   "source": [
    "def geometrisches_mittel(list):\n",
    "    # Gebe Fehler bei leerer Liste zurück\n",
    "    if len(list) == 0:\n",
    "        raise ValueError(\"Die geometrische Mitte ist für eine leere Liste nicht definiert.\")\n",
    "    # Produkt der Elemente Liste berechnen\n",
    "    produkt = 1\n",
    "    for i in list:\n",
    "        produkt *= i\n",
    "    laenge = len(list)\n",
    "    # Die geometrische List ist die n-te Wurzel des Produktes, wobei n die Länge der Liste ist.\n",
    "    return produkt ** (1 / laenge)"
   ],
   "id": "85fe137589754710",
   "outputs": [],
   "execution_count": 48
  },
  {
   "metadata": {},
   "cell_type": "markdown",
   "source": "Berechne geometrisches Mittel von 1, 9 und 81",
   "id": "8f68944c5d8b536e"
  },
  {
   "metadata": {
    "ExecuteTime": {
     "end_time": "2025-03-08T08:32:50.195420Z",
     "start_time": "2025-03-08T08:32:50.192674Z"
    }
   },
   "cell_type": "code",
   "source": "geometrisches_mittel([1, 9, 81])",
   "id": "5044ecda91bcef7a",
   "outputs": [
    {
     "data": {
      "text/plain": [
       "8.999999999999998"
      ]
     },
     "execution_count": 49,
     "metadata": {},
     "output_type": "execute_result"
    }
   ],
   "execution_count": 49
  },
  {
   "metadata": {},
   "cell_type": "markdown",
   "source": "## Funktion für Berechnung des Harmonischen Mittels",
   "id": "3601da2e8af62686"
  },
  {
   "metadata": {
    "ExecuteTime": {
     "end_time": "2025-03-08T08:32:50.210057Z",
     "start_time": "2025-03-08T08:32:50.207547Z"
    }
   },
   "cell_type": "code",
   "source": [
    "def harmonisches_mittel(list):\n",
    "    if len(list) == 0:\n",
    "        raise ValueError(\"Der Modus ist für eine leere Liste nicht definiert.\")\n",
    "    # Summe der Kehrwerte der Liste berechnen\n",
    "    summe_kehrwerte = 0\n",
    "    for i in list:\n",
    "        summe_kehrwerte += 1 / i\n",
    "    if summe_kehrwerte == 0:\n",
    "        raise ValueError(\"Die Harmonische Liste ist für Listen mit einer Summe der Kehrwerte von 0 nicht definiert.\")\n",
    "    laenge = len(list)\n",
    "    # Die harmonische Mitte ist die Länge der Liste dividiert durch die Summe der invertierten Elemente der Liste\n",
    "    return laenge / summe_kehrwerte"
   ],
   "id": "f22a3b580a0ffaf5",
   "outputs": [],
   "execution_count": 50
  },
  {
   "metadata": {},
   "cell_type": "markdown",
   "source": "Bereche harmonisches Mittel für 4, 6 und 12",
   "id": "a30621233a50b2c1"
  },
  {
   "metadata": {
    "ExecuteTime": {
     "end_time": "2025-03-08T08:32:50.217380Z",
     "start_time": "2025-03-08T08:32:50.214975Z"
    }
   },
   "cell_type": "code",
   "source": "harmonisches_mittel([4, 6, 12])",
   "id": "4ba1931fb2a5f009",
   "outputs": [
    {
     "data": {
      "text/plain": [
       "6.000000000000001"
      ]
     },
     "execution_count": 51,
     "metadata": {},
     "output_type": "execute_result"
    }
   ],
   "execution_count": 51
  },
  {
   "metadata": {},
   "cell_type": "markdown",
   "source": "## Funktion für Berechnung des Medians",
   "id": "dc63e8465f8a6658"
  },
  {
   "metadata": {
    "ExecuteTime": {
     "end_time": "2025-03-08T08:32:50.232281Z",
     "start_time": "2025-03-08T08:32:50.229804Z"
    }
   },
   "cell_type": "code",
   "source": [
    "def median(list):\n",
    "    # Gebe Fehler bei leerer Liste zurück\n",
    "    if len(list) == 0:\n",
    "        raise ValueError(\"Der Median ist für eine leere Liste nicht definiert.\")\n",
    "    # Erstelle sortierte Version der Liste\n",
    "    listSorted = sorted(list)\n",
    "    # Bestimme Länge der Liste\n",
    "    length = len(list)\n",
    "    # Für Listen mit gerader Anzahl berechne die arithmetische Mitte der beiden mittleren Elemente\n",
    "    if length % 2 == 0:\n",
    "        return + (list[length // 2 - 1] + list[length // 2]) / 2\n",
    "    # Für Listen mit ungerade Anzahl gib das mittlere Element zurück\n",
    "    return listSorted[length // 2]"
   ],
   "id": "5401811492f60972",
   "outputs": [],
   "execution_count": 52
  },
  {
   "metadata": {},
   "cell_type": "markdown",
   "source": "Berechne Median für 1,2,5 und 16 (gerade Menge)",
   "id": "c65abf0f94f21131"
  },
  {
   "metadata": {
    "ExecuteTime": {
     "end_time": "2025-03-08T08:32:50.239727Z",
     "start_time": "2025-03-08T08:32:50.237267Z"
    }
   },
   "cell_type": "code",
   "source": "median([1, 2, 5, 16])",
   "id": "889a6a984375b367",
   "outputs": [
    {
     "data": {
      "text/plain": [
       "3.5"
      ]
     },
     "execution_count": 53,
     "metadata": {},
     "output_type": "execute_result"
    }
   ],
   "execution_count": 53
  },
  {
   "metadata": {},
   "cell_type": "markdown",
   "source": "Berechne Median für 1,2 und 5 (ungerade Liste)",
   "id": "c33fb5da4cf9b305"
  },
  {
   "metadata": {
    "ExecuteTime": {
     "end_time": "2025-03-08T08:32:50.253952Z",
     "start_time": "2025-03-08T08:32:50.251507Z"
    }
   },
   "cell_type": "code",
   "source": "median([1, 2, 5])",
   "id": "fd24a189ca45d4d1",
   "outputs": [
    {
     "data": {
      "text/plain": [
       "2"
      ]
     },
     "execution_count": 54,
     "metadata": {},
     "output_type": "execute_result"
    }
   ],
   "execution_count": 54
  },
  {
   "metadata": {},
   "cell_type": "markdown",
   "source": "## Funktion für Berechnung des Modus",
   "id": "c5100c7aacce7f8a"
  },
  {
   "metadata": {
    "ExecuteTime": {
     "end_time": "2025-03-08T08:32:50.270551Z",
     "start_time": "2025-03-08T08:32:50.267763Z"
    }
   },
   "cell_type": "code",
   "source": [
    "def modus(list):\n",
    "    # Gebe Fehler bei leerer Liste zurück\n",
    "    if len(list) == 0:\n",
    "        raise ValueError(\"Der Modus ist für eine leere Liste nicht definiert.\")\n",
    "    # Erstelle dictionary mit Häufigkeit der Werte aus der Liste\n",
    "    d = dict()\n",
    "    for wert in list:\n",
    "        d.update({wert: d.get(wert, 0) + 1})\n",
    "    # Hole Tuples aus dem Dictionary (Wert,Häufigkeit) und sortiere nach Häufigkeit (also absteigend)\n",
    "    tuples = sorted(d.items(), key=lambda tuple: tuple[1], reverse=True)\n",
    "    # Gib das Wort des ersten Wert aus der Tuple Liste (höchstes Vorkommen) zurück\n",
    "    return tuples[0][0]"
   ],
   "id": "7f9bcad8fdb683ea",
   "outputs": [],
   "execution_count": 55
  },
  {
   "metadata": {},
   "cell_type": "markdown",
   "source": "## Berechne den Modus für die Menge 'gut', 'mittelprächtig', 'mittelprächtig', 'schlecht'",
   "id": "e8933b0902ff325f"
  },
  {
   "metadata": {
    "ExecuteTime": {
     "end_time": "2025-03-08T08:32:50.282876Z",
     "start_time": "2025-03-08T08:32:50.280374Z"
    }
   },
   "cell_type": "code",
   "source": "modus(['gut', 'mittelprächtig', 'mittelprächtig', 'schlecht'])",
   "id": "dfae85aad78baaff",
   "outputs": [
    {
     "data": {
      "text/plain": [
       "'mittelprächtig'"
      ]
     },
     "execution_count": 56,
     "metadata": {},
     "output_type": "execute_result"
    }
   ],
   "execution_count": 56
  },
  {
   "metadata": {},
   "cell_type": "markdown",
   "source": "## Funktion für Berechnung der Varianz",
   "id": "4b015dd4bced6a08"
  },
  {
   "metadata": {
    "ExecuteTime": {
     "end_time": "2025-03-08T08:32:50.293422Z",
     "start_time": "2025-03-08T08:32:50.290933Z"
    }
   },
   "cell_type": "code",
   "source": [
    "def varianz(list):\n",
    "    # Gebe Fehler bei leerer Liste zurück\n",
    "    if len(list) == 0:\n",
    "        raise ValueError(\"Die Varianz ist für eine leere Liste nicht definiert.\")\n",
    "    # Berechne Arithmetische Mitte für Liste\n",
    "    mitte = arithmetische_mitte(list)\n",
    "    # Berechne Summe der Quadratischen Abweichungen zur Liste\n",
    "    summe_quadratische_abweichung = 0\n",
    "    for i in list:\n",
    "        summe_quadratische_abweichung += abs(i - mitte) ** 2\n",
    "    laenge = len(list)\n",
    "    # Gib die Summe der quadratischen Abweichung geteilt durch die Länge der Liste zurück\n",
    "    return summe_quadratische_abweichung / laenge"
   ],
   "id": "72fb229f8fb777aa",
   "outputs": [],
   "execution_count": 57
  },
  {
   "metadata": {},
   "cell_type": "markdown",
   "source": "Berechne die Varianz für 2, 23, 42 und 666",
   "id": "3730366626f7812e"
  },
  {
   "metadata": {
    "ExecuteTime": {
     "end_time": "2025-03-08T08:32:50.305012Z",
     "start_time": "2025-03-08T08:32:50.302699Z"
    }
   },
   "cell_type": "code",
   "source": "varianz([2, 23, 42, 666])",
   "id": "783381095cb17a8d",
   "outputs": [
    {
     "data": {
      "text/plain": [
       "77882.6875"
      ]
     },
     "execution_count": 58,
     "metadata": {},
     "output_type": "execute_result"
    }
   ],
   "execution_count": 58
  },
  {
   "metadata": {},
   "cell_type": "markdown",
   "source": [
    "## Funktion zur Berechnung der Standardabweichung\n",
    "mit Benutzung der Funkion ```varianz```"
   ],
   "id": "4a49805f38c0241c"
  },
  {
   "metadata": {
    "ExecuteTime": {
     "end_time": "2025-03-08T08:32:50.314594Z",
     "start_time": "2025-03-08T08:32:50.312682Z"
    }
   },
   "cell_type": "code",
   "source": [
    "def standard_abweichung(list):\n",
    "    # Berechne die Varianz der liste\n",
    "    varianzListe = varianz(list)\n",
    "    # Gib die Quadratwurzel der Varianz zurück\n",
    "    return varianzListe ** 0.5"
   ],
   "id": "d58634a457ba108d",
   "outputs": [],
   "execution_count": 59
  },
  {
   "metadata": {},
   "cell_type": "markdown",
   "source": "Berechne die Standardabweichung für 2, 23, 42 und 666",
   "id": "cf8d18523eac6917"
  },
  {
   "metadata": {
    "ExecuteTime": {
     "end_time": "2025-03-08T08:32:50.325884Z",
     "start_time": "2025-03-08T08:32:50.323477Z"
    }
   },
   "cell_type": "code",
   "source": "standard_abweichung([2, 23, 42, 666])",
   "id": "6fb89a2092b3325c",
   "outputs": [
    {
     "data": {
      "text/plain": [
       "279.07469878152693"
      ]
     },
     "execution_count": 60,
     "metadata": {},
     "output_type": "execute_result"
    }
   ],
   "execution_count": 60
  },
  {
   "metadata": {},
   "cell_type": "markdown",
   "source": [
    "## Funktion für Berechnung des Variationskoeffizienten\n",
    "\n",
    "Benutzt die Funktionen\n",
    "```arithmetisches_mittes```\n",
    ",\n",
    "```standard_abweichung```\n",
    "und\n",
    "```mittelwert```"
   ],
   "id": "3b58fc6ab1c56239"
  },
  {
   "metadata": {
    "ExecuteTime": {
     "end_time": "2025-03-08T08:32:50.398246Z",
     "start_time": "2025-03-08T08:32:50.395881Z"
    }
   },
   "cell_type": "code",
   "source": [
    "def variationskoeffizient(list):\n",
    "    # Berechne den athmetische Mitte der Liste\n",
    "    mittelwert = arithmetisches_mittel(list)\n",
    "    if (mittelwert == 0):\n",
    "        raise ValueError(\"Der Variationskoeffizient ist bei einem Mittelwert von 0 nicht definiert \")\n",
    "    # Berechne die Standardabweichung der Liste\n",
    "    std_abweichung = standard_abweichung(list)\n",
    "    return std_abweichung / mittelwert"
   ],
   "id": "2b6449a82c64f1ed",
   "outputs": [],
   "execution_count": 61
  },
  {
   "metadata": {},
   "cell_type": "markdown",
   "source": "Berechne den Variationskoeffizienten für 2, 23, 42 und 666",
   "id": "4b12deb6914e3f13"
  },
  {
   "metadata": {
    "ExecuteTime": {
     "end_time": "2025-03-08T08:32:50.407494Z",
     "start_time": "2025-03-08T08:32:50.405020Z"
    }
   },
   "cell_type": "code",
   "source": "variationskoeffizient([2, 23, 42, 666])",
   "id": "485052cee4f3fa11",
   "outputs": [
    {
     "data": {
      "text/plain": [
       "1.5229178651106519"
      ]
     },
     "execution_count": 62,
     "metadata": {},
     "output_type": "execute_result"
    }
   ],
   "execution_count": 62
  }
 ],
 "metadata": {
  "kernelspec": {
   "display_name": "Python 3",
   "language": "python",
   "name": "python3"
  },
  "language_info": {
   "codemirror_mode": {
    "name": "ipython",
    "version": 2
   },
   "file_extension": ".py",
   "mimetype": "text/x-python",
   "name": "python",
   "nbconvert_exporter": "python",
   "pygments_lexer": "ipython2",
   "version": "2.7.6"
  }
 },
 "nbformat": 4,
 "nbformat_minor": 5
}
